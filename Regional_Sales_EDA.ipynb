{
  "nbformat": 4,
  "nbformat_minor": 0,
  "metadata": {
    "colab": {
      "provenance": []
    },
    "kernelspec": {
      "name": "python3",
      "display_name": "Python 3"
    },
    "language_info": {
      "name": "python"
    }
  },
  "cells": [
    {
      "cell_type": "markdown",
      "source": [
        "# Regional Sales EDA Project"
      ],
      "metadata": {
        "id": "oYN4FFTEknFI"
      }
    },
    {
      "cell_type": "markdown",
      "source": [
        "Problem Statement:\n",
        "\n",
        "Sales teams often lack a clear, data-driven understanding of regional performance, making it difficult to identify growth opportunities and optimize resources. This project aims to analyse and visualize regional sales data to uncover trends, evaluate profitability, and support strategic decision-making."
      ],
      "metadata": {
        "id": "1IoNmi_p_THW"
      }
    },
    {
      "cell_type": "markdown",
      "source": [
        "Objectives:\n",
        "\n",
        "· Inconsistent revenue and profit performance across U.S. regions\n",
        "\n",
        "· Lack of visibility into seasonal swings, top SKUs, and channel profitability\n",
        "\n",
        "· Goal: Leverage 5 years of historical data to pinpoint growth levers and optimize strategy"
      ],
      "metadata": {
        "id": "86NC2sne_mmO"
      }
    },
    {
      "cell_type": "markdown",
      "source": [
        "Importing Libraries"
      ],
      "metadata": {
        "id": "v0L2WwVXmfvj"
      }
    },
    {
      "cell_type": "code",
      "source": [
        "#Importing Libraries\n",
        "import numpy as np\n",
        "import pandas as pd\n",
        "import matplotlib.pyplot as plt\n",
        "import seaborn as sns"
      ],
      "metadata": {
        "id": "agUcTBbSkyST"
      },
      "execution_count": 2,
      "outputs": []
    },
    {
      "cell_type": "markdown",
      "source": [
        "Loading Datasets"
      ],
      "metadata": {
        "id": "C8MzGHsXmq4u"
      }
    },
    {
      "cell_type": "code",
      "source": [
        "# Load the Excel file\n",
        "file_path = 'Regional Sales Dataset.xlsx'\n",
        "xls = pd.ExcelFile(file_path)\n",
        "\n",
        "# Load individual sheets into DataFrames\n",
        "sales_orders = pd.read_excel(xls, sheet_name='Sales Orders')\n",
        "customers = pd.read_excel(xls, sheet_name='Customers')\n",
        "regions = pd.read_excel(xls, sheet_name='Regions')\n",
        "state_regions = pd.read_excel(xls, sheet_name='State Regions', header = 1)#header will get rid of the column1, column2, column3 headers and make them the first index row\n",
        "products = pd.read_excel(xls, sheet_name='Products')\n",
        "budgets_2017 = pd.read_excel(xls, sheet_name='2017 Budgets')\n",
        "\n",
        "# Quick check: Print shapes and first five rows\n",
        "print(\"\\n— sales_head —\")\n",
        "print(sales_orders.shape)  #(64105, 12)\n",
        "print(sales_orders.head())\n",
        "\n",
        "print(\"\\n— customers head —\")\n",
        "print(customers.shape)  #(1000, 4)\n",
        "print(customers.head())\n",
        "\n",
        "print(\"\\n— regions head —\")\n",
        "print(regions.shape)  #(51, 3)\n",
        "print(regions.head())\n",
        "\n",
        "print(\"\\n— state_regions head —\")\n",
        "print(state_regions.shape)  #(50, 3)\n",
        "print(state_regions.head())\n",
        "\n",
        "print(\"\\n— products head —\")\n",
        "print(products.shape)  #(1000, 4)\n",
        "print(products.head())\n",
        "\n",
        "print(\"\\n— budgets_2017 head —\")\n",
        "print(budgets_2017.shape)  #(50, 3)\n",
        "print(budgets_2017.head())\n",
        "\n"
      ],
      "metadata": {
        "colab": {
          "base_uri": "https://localhost:8080/",
          "height": 0
        },
        "id": "dcCyeRFuluNJ",
        "outputId": "627b5890-53b6-461b-8ee5-7d736f62a86f"
      },
      "execution_count": 3,
      "outputs": [
        {
          "output_type": "stream",
          "name": "stdout",
          "text": [
            "\n",
            "— sales_head —\n",
            "(64104, 12)\n",
            "    OrderNumber  OrderDate  Customer Name Index      Channel Currency Code  \\\n",
            "0   SO - 000225 2014-01-01                  126    Wholesale           USD   \n",
            "1  SO - 0003378 2014-01-01                   96  Distributor           USD   \n",
            "2  SO - 0005126 2014-01-01                    8    Wholesale           USD   \n",
            "3  SO - 0005614 2014-01-01                   42       Export           USD   \n",
            "4  SO - 0005781 2014-01-01                   73    Wholesale           USD   \n",
            "\n",
            "  Warehouse Code  Delivery Region Index  Product Description Index  \\\n",
            "0         AXW291                    364                         27   \n",
            "1         AXW291                    488                         20   \n",
            "2         AXW291                    155                         26   \n",
            "3         AXW291                    473                          7   \n",
            "4         AXW291                    256                          8   \n",
            "\n",
            "   Order Quantity  Unit Price  Line Total  Total Unit Cost  \n",
            "0               6      2499.1     14994.6         1824.343  \n",
            "1              11      2351.7     25868.7         1269.918  \n",
            "2               6       978.2      5869.2          684.740  \n",
            "3               7      2338.3     16368.1         1028.852  \n",
            "4               8      2291.4     18331.2         1260.270  \n",
            "\n",
            "— customers head —\n",
            "(175, 2)\n",
            "   Customer Index Customer Names\n",
            "0               1  Geiss Company\n",
            "1               2  Jaxbean Group\n",
            "2               3     Ascend Ltd\n",
            "3               4      Eire Corp\n",
            "4               5   Blogtags Ltd\n",
            "\n",
            "— regions head —\n",
            "(994, 15)\n",
            "   id        name                                   county state_code  \\\n",
            "0   1      Auburn                               Lee County         AL   \n",
            "1   2  Birmingham           Shelby County/Jefferson County         AL   \n",
            "2   3     Decatur           Limestone County/Morgan County         AL   \n",
            "3   4      Dothan  Dale County/Houston County/Henry County         AL   \n",
            "4   5      Hoover           Shelby County/Jefferson County         AL   \n",
            "\n",
            "     state  type  latitude  longitude  area_code  population  households  \\\n",
            "0  Alabama  City  32.60986  -85.48078        334       62059       21767   \n",
            "1  Alabama  City  33.52744  -86.79905        205      212461       89972   \n",
            "2  Alabama  City  34.57332  -86.99214        256       55437       22294   \n",
            "3  Alabama  City  31.23370  -85.40682        334       68567       25913   \n",
            "4  Alabama  City  33.37695  -86.80558        205       84848       32789   \n",
            "\n",
            "   median_income  land_area  water_area        time_zone  \n",
            "0          38342  152375113     2646161  America/Chicago  \n",
            "1          31061  378353942     6591013  America/Chicago  \n",
            "2          41496  141006257    17594716  America/Chicago  \n",
            "3          42426  232166237      835468  America/Chicago  \n",
            "4          77146  122016784     2553332  America/Chicago  \n",
            "\n",
            "— state_regions head —\n",
            "(48, 3)\n",
            "  State Code       State Region\n",
            "0         AL     Alabama  South\n",
            "1         AR    Arkansas  South\n",
            "2         AZ     Arizona   West\n",
            "3         CA  California   West\n",
            "4         CO    Colorado   West\n",
            "\n",
            "— products head —\n",
            "(30, 2)\n",
            "   Index Product Name\n",
            "0      1    Product 1\n",
            "1      2    Product 2\n",
            "2      3    Product 3\n",
            "3      4    Product 4\n",
            "4      5    Product 5\n",
            "\n",
            "— budgets_2017 head —\n",
            "(30, 2)\n",
            "  Product Name  2017 Budgets\n",
            "0    Product 1   3016489.209\n",
            "1    Product 2   3050087.565\n",
            "2    Product 3   2642352.432\n",
            "3    Product 4   2885560.824\n",
            "4    Product 5   3925424.542\n"
          ]
        }
      ]
    },
    {
      "cell_type": "markdown",
      "source": [
        "Data Understanding + Cleaning"
      ],
      "metadata": {
        "id": "ZHIRCGeRmz9o"
      }
    },
    {
      "cell_type": "code",
      "source": [
        "#Checking for null values across dataframes\n",
        "sales_orders.isnull().sum()\n",
        "#No null values were found across data"
      ],
      "metadata": {
        "colab": {
          "base_uri": "https://localhost:8080/",
          "height": 460
        },
        "id": "lClsvvdTcLxZ",
        "outputId": "12cfef2d-2687-4cb3-d7d7-aa5c898e2129"
      },
      "execution_count": 4,
      "outputs": [
        {
          "output_type": "execute_result",
          "data": {
            "text/plain": [
              "OrderNumber                  0\n",
              "OrderDate                    0\n",
              "Customer Name Index          0\n",
              "Channel                      0\n",
              "Currency Code                0\n",
              "Warehouse Code               0\n",
              "Delivery Region Index        0\n",
              "Product Description Index    0\n",
              "Order Quantity               0\n",
              "Unit Price                   0\n",
              "Line Total                   0\n",
              "Total Unit Cost              0\n",
              "dtype: int64"
            ],
            "text/html": [
              "<div>\n",
              "<style scoped>\n",
              "    .dataframe tbody tr th:only-of-type {\n",
              "        vertical-align: middle;\n",
              "    }\n",
              "\n",
              "    .dataframe tbody tr th {\n",
              "        vertical-align: top;\n",
              "    }\n",
              "\n",
              "    .dataframe thead th {\n",
              "        text-align: right;\n",
              "    }\n",
              "</style>\n",
              "<table border=\"1\" class=\"dataframe\">\n",
              "  <thead>\n",
              "    <tr style=\"text-align: right;\">\n",
              "      <th></th>\n",
              "      <th>0</th>\n",
              "    </tr>\n",
              "  </thead>\n",
              "  <tbody>\n",
              "    <tr>\n",
              "      <th>OrderNumber</th>\n",
              "      <td>0</td>\n",
              "    </tr>\n",
              "    <tr>\n",
              "      <th>OrderDate</th>\n",
              "      <td>0</td>\n",
              "    </tr>\n",
              "    <tr>\n",
              "      <th>Customer Name Index</th>\n",
              "      <td>0</td>\n",
              "    </tr>\n",
              "    <tr>\n",
              "      <th>Channel</th>\n",
              "      <td>0</td>\n",
              "    </tr>\n",
              "    <tr>\n",
              "      <th>Currency Code</th>\n",
              "      <td>0</td>\n",
              "    </tr>\n",
              "    <tr>\n",
              "      <th>Warehouse Code</th>\n",
              "      <td>0</td>\n",
              "    </tr>\n",
              "    <tr>\n",
              "      <th>Delivery Region Index</th>\n",
              "      <td>0</td>\n",
              "    </tr>\n",
              "    <tr>\n",
              "      <th>Product Description Index</th>\n",
              "      <td>0</td>\n",
              "    </tr>\n",
              "    <tr>\n",
              "      <th>Order Quantity</th>\n",
              "      <td>0</td>\n",
              "    </tr>\n",
              "    <tr>\n",
              "      <th>Unit Price</th>\n",
              "      <td>0</td>\n",
              "    </tr>\n",
              "    <tr>\n",
              "      <th>Line Total</th>\n",
              "      <td>0</td>\n",
              "    </tr>\n",
              "    <tr>\n",
              "      <th>Total Unit Cost</th>\n",
              "      <td>0</td>\n",
              "    </tr>\n",
              "  </tbody>\n",
              "</table>\n",
              "</div><br><label><b>dtype:</b> int64</label>"
            ]
          },
          "metadata": {},
          "execution_count": 4
        }
      ]
    },
    {
      "cell_type": "code",
      "source": [
        "customers.isnull().sum()\n"
      ],
      "metadata": {
        "colab": {
          "base_uri": "https://localhost:8080/",
          "height": 147
        },
        "outputId": "3fdd6f7b-baba-45a1-b367-8083efc5f76d",
        "id": "ziw8P8Zfs5tK"
      },
      "execution_count": 5,
      "outputs": [
        {
          "output_type": "execute_result",
          "data": {
            "text/plain": [
              "Customer Index    0\n",
              "Customer Names    0\n",
              "dtype: int64"
            ],
            "text/html": [
              "<div>\n",
              "<style scoped>\n",
              "    .dataframe tbody tr th:only-of-type {\n",
              "        vertical-align: middle;\n",
              "    }\n",
              "\n",
              "    .dataframe tbody tr th {\n",
              "        vertical-align: top;\n",
              "    }\n",
              "\n",
              "    .dataframe thead th {\n",
              "        text-align: right;\n",
              "    }\n",
              "</style>\n",
              "<table border=\"1\" class=\"dataframe\">\n",
              "  <thead>\n",
              "    <tr style=\"text-align: right;\">\n",
              "      <th></th>\n",
              "      <th>0</th>\n",
              "    </tr>\n",
              "  </thead>\n",
              "  <tbody>\n",
              "    <tr>\n",
              "      <th>Customer Index</th>\n",
              "      <td>0</td>\n",
              "    </tr>\n",
              "    <tr>\n",
              "      <th>Customer Names</th>\n",
              "      <td>0</td>\n",
              "    </tr>\n",
              "  </tbody>\n",
              "</table>\n",
              "</div><br><label><b>dtype:</b> int64</label>"
            ]
          },
          "metadata": {},
          "execution_count": 5
        }
      ]
    },
    {
      "cell_type": "code",
      "source": [
        "state_regions.isnull().sum()\n"
      ],
      "metadata": {
        "colab": {
          "base_uri": "https://localhost:8080/",
          "height": 178
        },
        "outputId": "d6e85fa2-4d5c-40f2-b239-dd74a9632cf1",
        "id": "d6yaWisvtphy"
      },
      "execution_count": 6,
      "outputs": [
        {
          "output_type": "execute_result",
          "data": {
            "text/plain": [
              "State Code    0\n",
              "State         0\n",
              "Region        0\n",
              "dtype: int64"
            ],
            "text/html": [
              "<div>\n",
              "<style scoped>\n",
              "    .dataframe tbody tr th:only-of-type {\n",
              "        vertical-align: middle;\n",
              "    }\n",
              "\n",
              "    .dataframe tbody tr th {\n",
              "        vertical-align: top;\n",
              "    }\n",
              "\n",
              "    .dataframe thead th {\n",
              "        text-align: right;\n",
              "    }\n",
              "</style>\n",
              "<table border=\"1\" class=\"dataframe\">\n",
              "  <thead>\n",
              "    <tr style=\"text-align: right;\">\n",
              "      <th></th>\n",
              "      <th>0</th>\n",
              "    </tr>\n",
              "  </thead>\n",
              "  <tbody>\n",
              "    <tr>\n",
              "      <th>State Code</th>\n",
              "      <td>0</td>\n",
              "    </tr>\n",
              "    <tr>\n",
              "      <th>State</th>\n",
              "      <td>0</td>\n",
              "    </tr>\n",
              "    <tr>\n",
              "      <th>Region</th>\n",
              "      <td>0</td>\n",
              "    </tr>\n",
              "  </tbody>\n",
              "</table>\n",
              "</div><br><label><b>dtype:</b> int64</label>"
            ]
          },
          "metadata": {},
          "execution_count": 6
        }
      ]
    },
    {
      "cell_type": "code",
      "source": [
        "products.isnull().sum()"
      ],
      "metadata": {
        "colab": {
          "base_uri": "https://localhost:8080/",
          "height": 147
        },
        "outputId": "3f990a7b-6d3a-4827-baef-d97b28209c88",
        "id": "tmBdI6Q1twYi"
      },
      "execution_count": 7,
      "outputs": [
        {
          "output_type": "execute_result",
          "data": {
            "text/plain": [
              "Index           0\n",
              "Product Name    0\n",
              "dtype: int64"
            ],
            "text/html": [
              "<div>\n",
              "<style scoped>\n",
              "    .dataframe tbody tr th:only-of-type {\n",
              "        vertical-align: middle;\n",
              "    }\n",
              "\n",
              "    .dataframe tbody tr th {\n",
              "        vertical-align: top;\n",
              "    }\n",
              "\n",
              "    .dataframe thead th {\n",
              "        text-align: right;\n",
              "    }\n",
              "</style>\n",
              "<table border=\"1\" class=\"dataframe\">\n",
              "  <thead>\n",
              "    <tr style=\"text-align: right;\">\n",
              "      <th></th>\n",
              "      <th>0</th>\n",
              "    </tr>\n",
              "  </thead>\n",
              "  <tbody>\n",
              "    <tr>\n",
              "      <th>Index</th>\n",
              "      <td>0</td>\n",
              "    </tr>\n",
              "    <tr>\n",
              "      <th>Product Name</th>\n",
              "      <td>0</td>\n",
              "    </tr>\n",
              "  </tbody>\n",
              "</table>\n",
              "</div><br><label><b>dtype:</b> int64</label>"
            ]
          },
          "metadata": {},
          "execution_count": 7
        }
      ]
    },
    {
      "cell_type": "code",
      "source": [
        "budgets_2017.isnull().sum()"
      ],
      "metadata": {
        "colab": {
          "base_uri": "https://localhost:8080/",
          "height": 147
        },
        "outputId": "0afe1b33-409a-44a0-bf4e-d0a8d3fced0a",
        "id": "eqrrafeOuA1p"
      },
      "execution_count": 8,
      "outputs": [
        {
          "output_type": "execute_result",
          "data": {
            "text/plain": [
              "Product Name    0\n",
              "2017 Budgets    0\n",
              "dtype: int64"
            ],
            "text/html": [
              "<div>\n",
              "<style scoped>\n",
              "    .dataframe tbody tr th:only-of-type {\n",
              "        vertical-align: middle;\n",
              "    }\n",
              "\n",
              "    .dataframe tbody tr th {\n",
              "        vertical-align: top;\n",
              "    }\n",
              "\n",
              "    .dataframe thead th {\n",
              "        text-align: right;\n",
              "    }\n",
              "</style>\n",
              "<table border=\"1\" class=\"dataframe\">\n",
              "  <thead>\n",
              "    <tr style=\"text-align: right;\">\n",
              "      <th></th>\n",
              "      <th>0</th>\n",
              "    </tr>\n",
              "  </thead>\n",
              "  <tbody>\n",
              "    <tr>\n",
              "      <th>Product Name</th>\n",
              "      <td>0</td>\n",
              "    </tr>\n",
              "    <tr>\n",
              "      <th>2017 Budgets</th>\n",
              "      <td>0</td>\n",
              "    </tr>\n",
              "  </tbody>\n",
              "</table>\n",
              "</div><br><label><b>dtype:</b> int64</label>"
            ]
          },
          "metadata": {},
          "execution_count": 8
        }
      ]
    },
    {
      "cell_type": "code",
      "source": [
        "state_regions.info()"
      ],
      "metadata": {
        "colab": {
          "base_uri": "https://localhost:8080/",
          "height": 0
        },
        "id": "n6v4nWdNvsxL",
        "outputId": "4fa1135f-24ca-4b53-95e6-172d0ff562c9"
      },
      "execution_count": 9,
      "outputs": [
        {
          "output_type": "stream",
          "name": "stdout",
          "text": [
            "<class 'pandas.core.frame.DataFrame'>\n",
            "RangeIndex: 48 entries, 0 to 47\n",
            "Data columns (total 3 columns):\n",
            " #   Column      Non-Null Count  Dtype \n",
            "---  ------      --------------  ----- \n",
            " 0   State Code  48 non-null     object\n",
            " 1   State       48 non-null     object\n",
            " 2   Region      48 non-null     object\n",
            "dtypes: object(3)\n",
            "memory usage: 1.3+ KB\n"
          ]
        }
      ]
    },
    {
      "cell_type": "code",
      "source": [
        "#Merging datasheets\n",
        "\n",
        "# Step 1: Merge sales_orders with customers on Customer Name Index and Customer Index\n",
        "df_merged = pd.merge(sales_orders, customers, left_on='Customer Name Index', right_on='Customer Index', how='left')\n",
        "\n",
        "# Step 2: Merge with regions on Delivery Region Index and id\n",
        "df_merged = pd.merge(df_merged, regions, left_on='Delivery Region Index', right_on='id', how='left')\n",
        "\n",
        "# Step 3: Merge with state_regions on state_code and State Code\n",
        "df_merged = pd.merge(df_merged, state_regions, left_on='state_code', right_on='State Code', how='left')\n",
        "\n",
        "# Step 4: Merge with products on Product Description Index and Index\n",
        "df_merged = pd.merge(df_merged, products, left_on='Product Description Index', right_on='Index', how='left')\n",
        "\n",
        "# Step 5: Merge with budgets_2017 on Product Name\n",
        "df_merged = pd.merge(df_merged, budgets_2017, on='Product Name', how='left')\n",
        "\n",
        "# Step 6: Preview the merged DataFrame with a labeled header\n",
        "print(\"\\n— Merged DataFrame head —\")\n",
        "print(df_merged.head())\n",
        "\n"
      ],
      "metadata": {
        "colab": {
          "base_uri": "https://localhost:8080/"
        },
        "id": "g-SL7GYvzaG5",
        "outputId": "b88c7632-d1fb-4688-d2f6-bdbd9a65810b"
      },
      "execution_count": 34,
      "outputs": [
        {
          "output_type": "stream",
          "name": "stdout",
          "text": [
            "\n",
            "— Merged DataFrame head —\n",
            "    OrderNumber  OrderDate  Customer Name Index      Channel Currency Code  \\\n",
            "0   SO - 000225 2014-01-01                  126    Wholesale           USD   \n",
            "1  SO - 0003378 2014-01-01                   96  Distributor           USD   \n",
            "2  SO - 0005126 2014-01-01                    8    Wholesale           USD   \n",
            "3  SO - 0005614 2014-01-01                   42       Export           USD   \n",
            "4  SO - 0005781 2014-01-01                   73    Wholesale           USD   \n",
            "\n",
            "  Warehouse Code  Delivery Region Index  Product Description Index  \\\n",
            "0         AXW291                    364                         27   \n",
            "1         AXW291                    488                         20   \n",
            "2         AXW291                    155                         26   \n",
            "3         AXW291                    473                          7   \n",
            "4         AXW291                    256                          8   \n",
            "\n",
            "   Order Quantity  Unit Price  ...  median_income  land_area  water_area  \\\n",
            "0               6      2499.1  ...          36466  268318796    13908113   \n",
            "1              11      2351.7  ...          54176   72276415        1883   \n",
            "2               6       978.2  ...         124759   62489257      386195   \n",
            "3               7      2338.3  ...          30019   60221613      475857   \n",
            "4               8      2291.4  ...          63158   70972793      720300   \n",
            "\n",
            "                      time_zone  State Code        State     Region Index  \\\n",
            "0              America/New York          GA      Georgia      South    27   \n",
            "1  America/Indiana/Indianapolis          IN      Indiana    Midwest    20   \n",
            "2           America/Los Angeles          CA   California       West    26   \n",
            "3  America/Indiana/Indianapolis          IN      Indiana    Midwest     7   \n",
            "4              America/New York          CT  Connecticut  Northeast     8   \n",
            "\n",
            "  Product Name 2017 Budgets  \n",
            "0   Product 27   964940.231  \n",
            "1   Product 20  2067108.120  \n",
            "2   Product 26  5685138.270  \n",
            "3    Product 7   889737.555  \n",
            "4    Product 8  1085037.329  \n",
            "\n",
            "[5 rows x 35 columns]\n"
          ]
        }
      ]
    },
    {
      "cell_type": "code",
      "source": [
        "#Changing all columns to lowercase for consistency\n",
        "df_merged.columns = df_merged.columns.str.lower()\n",
        "df_merged.head()"
      ],
      "metadata": {
        "colab": {
          "base_uri": "https://localhost:8080/",
          "height": 377
        },
        "id": "Dm8K901S9ODr",
        "outputId": "7a0675b2-44b3-426d-bee3-eae21a7c38ff"
      },
      "execution_count": 35,
      "outputs": [
        {
          "output_type": "execute_result",
          "data": {
            "text/plain": [
              "    ordernumber  orderdate  customer name index      channel currency code  \\\n",
              "0   SO - 000225 2014-01-01                  126    Wholesale           USD   \n",
              "1  SO - 0003378 2014-01-01                   96  Distributor           USD   \n",
              "2  SO - 0005126 2014-01-01                    8    Wholesale           USD   \n",
              "3  SO - 0005614 2014-01-01                   42       Export           USD   \n",
              "4  SO - 0005781 2014-01-01                   73    Wholesale           USD   \n",
              "\n",
              "  warehouse code  delivery region index  product description index  \\\n",
              "0         AXW291                    364                         27   \n",
              "1         AXW291                    488                         20   \n",
              "2         AXW291                    155                         26   \n",
              "3         AXW291                    473                          7   \n",
              "4         AXW291                    256                          8   \n",
              "\n",
              "   order quantity  unit price  ...  median_income  land_area  water_area  \\\n",
              "0               6      2499.1  ...          36466  268318796    13908113   \n",
              "1              11      2351.7  ...          54176   72276415        1883   \n",
              "2               6       978.2  ...         124759   62489257      386195   \n",
              "3               7      2338.3  ...          30019   60221613      475857   \n",
              "4               8      2291.4  ...          63158   70972793      720300   \n",
              "\n",
              "                      time_zone  state code        state     region index  \\\n",
              "0              America/New York          GA      Georgia      South    27   \n",
              "1  America/Indiana/Indianapolis          IN      Indiana    Midwest    20   \n",
              "2           America/Los Angeles          CA   California       West    26   \n",
              "3  America/Indiana/Indianapolis          IN      Indiana    Midwest     7   \n",
              "4              America/New York          CT  Connecticut  Northeast     8   \n",
              "\n",
              "  product name 2017 budgets  \n",
              "0   Product 27   964940.231  \n",
              "1   Product 20  2067108.120  \n",
              "2   Product 26  5685138.270  \n",
              "3    Product 7   889737.555  \n",
              "4    Product 8  1085037.329  \n",
              "\n",
              "[5 rows x 35 columns]"
            ],
            "text/html": [
              "\n",
              "  <div id=\"df-a324632b-c7ec-47ab-8bad-9db2c164992c\" class=\"colab-df-container\">\n",
              "    <div>\n",
              "<style scoped>\n",
              "    .dataframe tbody tr th:only-of-type {\n",
              "        vertical-align: middle;\n",
              "    }\n",
              "\n",
              "    .dataframe tbody tr th {\n",
              "        vertical-align: top;\n",
              "    }\n",
              "\n",
              "    .dataframe thead th {\n",
              "        text-align: right;\n",
              "    }\n",
              "</style>\n",
              "<table border=\"1\" class=\"dataframe\">\n",
              "  <thead>\n",
              "    <tr style=\"text-align: right;\">\n",
              "      <th></th>\n",
              "      <th>ordernumber</th>\n",
              "      <th>orderdate</th>\n",
              "      <th>customer name index</th>\n",
              "      <th>channel</th>\n",
              "      <th>currency code</th>\n",
              "      <th>warehouse code</th>\n",
              "      <th>delivery region index</th>\n",
              "      <th>product description index</th>\n",
              "      <th>order quantity</th>\n",
              "      <th>unit price</th>\n",
              "      <th>...</th>\n",
              "      <th>median_income</th>\n",
              "      <th>land_area</th>\n",
              "      <th>water_area</th>\n",
              "      <th>time_zone</th>\n",
              "      <th>state code</th>\n",
              "      <th>state</th>\n",
              "      <th>region</th>\n",
              "      <th>index</th>\n",
              "      <th>product name</th>\n",
              "      <th>2017 budgets</th>\n",
              "    </tr>\n",
              "  </thead>\n",
              "  <tbody>\n",
              "    <tr>\n",
              "      <th>0</th>\n",
              "      <td>SO - 000225</td>\n",
              "      <td>2014-01-01</td>\n",
              "      <td>126</td>\n",
              "      <td>Wholesale</td>\n",
              "      <td>USD</td>\n",
              "      <td>AXW291</td>\n",
              "      <td>364</td>\n",
              "      <td>27</td>\n",
              "      <td>6</td>\n",
              "      <td>2499.1</td>\n",
              "      <td>...</td>\n",
              "      <td>36466</td>\n",
              "      <td>268318796</td>\n",
              "      <td>13908113</td>\n",
              "      <td>America/New York</td>\n",
              "      <td>GA</td>\n",
              "      <td>Georgia</td>\n",
              "      <td>South</td>\n",
              "      <td>27</td>\n",
              "      <td>Product 27</td>\n",
              "      <td>964940.231</td>\n",
              "    </tr>\n",
              "    <tr>\n",
              "      <th>1</th>\n",
              "      <td>SO - 0003378</td>\n",
              "      <td>2014-01-01</td>\n",
              "      <td>96</td>\n",
              "      <td>Distributor</td>\n",
              "      <td>USD</td>\n",
              "      <td>AXW291</td>\n",
              "      <td>488</td>\n",
              "      <td>20</td>\n",
              "      <td>11</td>\n",
              "      <td>2351.7</td>\n",
              "      <td>...</td>\n",
              "      <td>54176</td>\n",
              "      <td>72276415</td>\n",
              "      <td>1883</td>\n",
              "      <td>America/Indiana/Indianapolis</td>\n",
              "      <td>IN</td>\n",
              "      <td>Indiana</td>\n",
              "      <td>Midwest</td>\n",
              "      <td>20</td>\n",
              "      <td>Product 20</td>\n",
              "      <td>2067108.120</td>\n",
              "    </tr>\n",
              "    <tr>\n",
              "      <th>2</th>\n",
              "      <td>SO - 0005126</td>\n",
              "      <td>2014-01-01</td>\n",
              "      <td>8</td>\n",
              "      <td>Wholesale</td>\n",
              "      <td>USD</td>\n",
              "      <td>AXW291</td>\n",
              "      <td>155</td>\n",
              "      <td>26</td>\n",
              "      <td>6</td>\n",
              "      <td>978.2</td>\n",
              "      <td>...</td>\n",
              "      <td>124759</td>\n",
              "      <td>62489257</td>\n",
              "      <td>386195</td>\n",
              "      <td>America/Los Angeles</td>\n",
              "      <td>CA</td>\n",
              "      <td>California</td>\n",
              "      <td>West</td>\n",
              "      <td>26</td>\n",
              "      <td>Product 26</td>\n",
              "      <td>5685138.270</td>\n",
              "    </tr>\n",
              "    <tr>\n",
              "      <th>3</th>\n",
              "      <td>SO - 0005614</td>\n",
              "      <td>2014-01-01</td>\n",
              "      <td>42</td>\n",
              "      <td>Export</td>\n",
              "      <td>USD</td>\n",
              "      <td>AXW291</td>\n",
              "      <td>473</td>\n",
              "      <td>7</td>\n",
              "      <td>7</td>\n",
              "      <td>2338.3</td>\n",
              "      <td>...</td>\n",
              "      <td>30019</td>\n",
              "      <td>60221613</td>\n",
              "      <td>475857</td>\n",
              "      <td>America/Indiana/Indianapolis</td>\n",
              "      <td>IN</td>\n",
              "      <td>Indiana</td>\n",
              "      <td>Midwest</td>\n",
              "      <td>7</td>\n",
              "      <td>Product 7</td>\n",
              "      <td>889737.555</td>\n",
              "    </tr>\n",
              "    <tr>\n",
              "      <th>4</th>\n",
              "      <td>SO - 0005781</td>\n",
              "      <td>2014-01-01</td>\n",
              "      <td>73</td>\n",
              "      <td>Wholesale</td>\n",
              "      <td>USD</td>\n",
              "      <td>AXW291</td>\n",
              "      <td>256</td>\n",
              "      <td>8</td>\n",
              "      <td>8</td>\n",
              "      <td>2291.4</td>\n",
              "      <td>...</td>\n",
              "      <td>63158</td>\n",
              "      <td>70972793</td>\n",
              "      <td>720300</td>\n",
              "      <td>America/New York</td>\n",
              "      <td>CT</td>\n",
              "      <td>Connecticut</td>\n",
              "      <td>Northeast</td>\n",
              "      <td>8</td>\n",
              "      <td>Product 8</td>\n",
              "      <td>1085037.329</td>\n",
              "    </tr>\n",
              "  </tbody>\n",
              "</table>\n",
              "<p>5 rows × 35 columns</p>\n",
              "</div>\n",
              "    <div class=\"colab-df-buttons\">\n",
              "\n",
              "  <div class=\"colab-df-container\">\n",
              "    <button class=\"colab-df-convert\" onclick=\"convertToInteractive('df-a324632b-c7ec-47ab-8bad-9db2c164992c')\"\n",
              "            title=\"Convert this dataframe to an interactive table.\"\n",
              "            style=\"display:none;\">\n",
              "\n",
              "  <svg xmlns=\"http://www.w3.org/2000/svg\" height=\"24px\" viewBox=\"0 -960 960 960\">\n",
              "    <path d=\"M120-120v-720h720v720H120Zm60-500h600v-160H180v160Zm220 220h160v-160H400v160Zm0 220h160v-160H400v160ZM180-400h160v-160H180v160Zm440 0h160v-160H620v160ZM180-180h160v-160H180v160Zm440 0h160v-160H620v160Z\"/>\n",
              "  </svg>\n",
              "    </button>\n",
              "\n",
              "  <style>\n",
              "    .colab-df-container {\n",
              "      display:flex;\n",
              "      gap: 12px;\n",
              "    }\n",
              "\n",
              "    .colab-df-convert {\n",
              "      background-color: #E8F0FE;\n",
              "      border: none;\n",
              "      border-radius: 50%;\n",
              "      cursor: pointer;\n",
              "      display: none;\n",
              "      fill: #1967D2;\n",
              "      height: 32px;\n",
              "      padding: 0 0 0 0;\n",
              "      width: 32px;\n",
              "    }\n",
              "\n",
              "    .colab-df-convert:hover {\n",
              "      background-color: #E2EBFA;\n",
              "      box-shadow: 0px 1px 2px rgba(60, 64, 67, 0.3), 0px 1px 3px 1px rgba(60, 64, 67, 0.15);\n",
              "      fill: #174EA6;\n",
              "    }\n",
              "\n",
              "    .colab-df-buttons div {\n",
              "      margin-bottom: 4px;\n",
              "    }\n",
              "\n",
              "    [theme=dark] .colab-df-convert {\n",
              "      background-color: #3B4455;\n",
              "      fill: #D2E3FC;\n",
              "    }\n",
              "\n",
              "    [theme=dark] .colab-df-convert:hover {\n",
              "      background-color: #434B5C;\n",
              "      box-shadow: 0px 1px 3px 1px rgba(0, 0, 0, 0.15);\n",
              "      filter: drop-shadow(0px 1px 2px rgba(0, 0, 0, 0.3));\n",
              "      fill: #FFFFFF;\n",
              "    }\n",
              "  </style>\n",
              "\n",
              "    <script>\n",
              "      const buttonEl =\n",
              "        document.querySelector('#df-a324632b-c7ec-47ab-8bad-9db2c164992c button.colab-df-convert');\n",
              "      buttonEl.style.display =\n",
              "        google.colab.kernel.accessAllowed ? 'block' : 'none';\n",
              "\n",
              "      async function convertToInteractive(key) {\n",
              "        const element = document.querySelector('#df-a324632b-c7ec-47ab-8bad-9db2c164992c');\n",
              "        const dataTable =\n",
              "          await google.colab.kernel.invokeFunction('convertToInteractive',\n",
              "                                                    [key], {});\n",
              "        if (!dataTable) return;\n",
              "\n",
              "        const docLinkHtml = 'Like what you see? Visit the ' +\n",
              "          '<a target=\"_blank\" href=https://colab.research.google.com/notebooks/data_table.ipynb>data table notebook</a>'\n",
              "          + ' to learn more about interactive tables.';\n",
              "        element.innerHTML = '';\n",
              "        dataTable['output_type'] = 'display_data';\n",
              "        await google.colab.output.renderOutput(dataTable, element);\n",
              "        const docLink = document.createElement('div');\n",
              "        docLink.innerHTML = docLinkHtml;\n",
              "        element.appendChild(docLink);\n",
              "      }\n",
              "    </script>\n",
              "  </div>\n",
              "\n",
              "\n",
              "    <div id=\"df-82e17026-4adc-4d58-bf1d-1ce453159c3d\">\n",
              "      <button class=\"colab-df-quickchart\" onclick=\"quickchart('df-82e17026-4adc-4d58-bf1d-1ce453159c3d')\"\n",
              "                title=\"Suggest charts\"\n",
              "                style=\"display:none;\">\n",
              "\n",
              "<svg xmlns=\"http://www.w3.org/2000/svg\" height=\"24px\"viewBox=\"0 0 24 24\"\n",
              "     width=\"24px\">\n",
              "    <g>\n",
              "        <path d=\"M19 3H5c-1.1 0-2 .9-2 2v14c0 1.1.9 2 2 2h14c1.1 0 2-.9 2-2V5c0-1.1-.9-2-2-2zM9 17H7v-7h2v7zm4 0h-2V7h2v10zm4 0h-2v-4h2v4z\"/>\n",
              "    </g>\n",
              "</svg>\n",
              "      </button>\n",
              "\n",
              "<style>\n",
              "  .colab-df-quickchart {\n",
              "      --bg-color: #E8F0FE;\n",
              "      --fill-color: #1967D2;\n",
              "      --hover-bg-color: #E2EBFA;\n",
              "      --hover-fill-color: #174EA6;\n",
              "      --disabled-fill-color: #AAA;\n",
              "      --disabled-bg-color: #DDD;\n",
              "  }\n",
              "\n",
              "  [theme=dark] .colab-df-quickchart {\n",
              "      --bg-color: #3B4455;\n",
              "      --fill-color: #D2E3FC;\n",
              "      --hover-bg-color: #434B5C;\n",
              "      --hover-fill-color: #FFFFFF;\n",
              "      --disabled-bg-color: #3B4455;\n",
              "      --disabled-fill-color: #666;\n",
              "  }\n",
              "\n",
              "  .colab-df-quickchart {\n",
              "    background-color: var(--bg-color);\n",
              "    border: none;\n",
              "    border-radius: 50%;\n",
              "    cursor: pointer;\n",
              "    display: none;\n",
              "    fill: var(--fill-color);\n",
              "    height: 32px;\n",
              "    padding: 0;\n",
              "    width: 32px;\n",
              "  }\n",
              "\n",
              "  .colab-df-quickchart:hover {\n",
              "    background-color: var(--hover-bg-color);\n",
              "    box-shadow: 0 1px 2px rgba(60, 64, 67, 0.3), 0 1px 3px 1px rgba(60, 64, 67, 0.15);\n",
              "    fill: var(--button-hover-fill-color);\n",
              "  }\n",
              "\n",
              "  .colab-df-quickchart-complete:disabled,\n",
              "  .colab-df-quickchart-complete:disabled:hover {\n",
              "    background-color: var(--disabled-bg-color);\n",
              "    fill: var(--disabled-fill-color);\n",
              "    box-shadow: none;\n",
              "  }\n",
              "\n",
              "  .colab-df-spinner {\n",
              "    border: 2px solid var(--fill-color);\n",
              "    border-color: transparent;\n",
              "    border-bottom-color: var(--fill-color);\n",
              "    animation:\n",
              "      spin 1s steps(1) infinite;\n",
              "  }\n",
              "\n",
              "  @keyframes spin {\n",
              "    0% {\n",
              "      border-color: transparent;\n",
              "      border-bottom-color: var(--fill-color);\n",
              "      border-left-color: var(--fill-color);\n",
              "    }\n",
              "    20% {\n",
              "      border-color: transparent;\n",
              "      border-left-color: var(--fill-color);\n",
              "      border-top-color: var(--fill-color);\n",
              "    }\n",
              "    30% {\n",
              "      border-color: transparent;\n",
              "      border-left-color: var(--fill-color);\n",
              "      border-top-color: var(--fill-color);\n",
              "      border-right-color: var(--fill-color);\n",
              "    }\n",
              "    40% {\n",
              "      border-color: transparent;\n",
              "      border-right-color: var(--fill-color);\n",
              "      border-top-color: var(--fill-color);\n",
              "    }\n",
              "    60% {\n",
              "      border-color: transparent;\n",
              "      border-right-color: var(--fill-color);\n",
              "    }\n",
              "    80% {\n",
              "      border-color: transparent;\n",
              "      border-right-color: var(--fill-color);\n",
              "      border-bottom-color: var(--fill-color);\n",
              "    }\n",
              "    90% {\n",
              "      border-color: transparent;\n",
              "      border-bottom-color: var(--fill-color);\n",
              "    }\n",
              "  }\n",
              "</style>\n",
              "\n",
              "      <script>\n",
              "        async function quickchart(key) {\n",
              "          const quickchartButtonEl =\n",
              "            document.querySelector('#' + key + ' button');\n",
              "          quickchartButtonEl.disabled = true;  // To prevent multiple clicks.\n",
              "          quickchartButtonEl.classList.add('colab-df-spinner');\n",
              "          try {\n",
              "            const charts = await google.colab.kernel.invokeFunction(\n",
              "                'suggestCharts', [key], {});\n",
              "          } catch (error) {\n",
              "            console.error('Error during call to suggestCharts:', error);\n",
              "          }\n",
              "          quickchartButtonEl.classList.remove('colab-df-spinner');\n",
              "          quickchartButtonEl.classList.add('colab-df-quickchart-complete');\n",
              "        }\n",
              "        (() => {\n",
              "          let quickchartButtonEl =\n",
              "            document.querySelector('#df-82e17026-4adc-4d58-bf1d-1ce453159c3d button');\n",
              "          quickchartButtonEl.style.display =\n",
              "            google.colab.kernel.accessAllowed ? 'block' : 'none';\n",
              "        })();\n",
              "      </script>\n",
              "    </div>\n",
              "\n",
              "    </div>\n",
              "  </div>\n"
            ],
            "application/vnd.google.colaboratory.intrinsic+json": {
              "type": "dataframe",
              "variable_name": "df_merged"
            }
          },
          "metadata": {},
          "execution_count": 35
        }
      ]
    },
    {
      "cell_type": "code",
      "source": [
        "df_merged.info()"
      ],
      "metadata": {
        "colab": {
          "base_uri": "https://localhost:8080/"
        },
        "id": "qjkvI_Ux-LnX",
        "outputId": "0bf8c955-71d0-4b92-ba4a-2cda002b4a54"
      },
      "execution_count": 36,
      "outputs": [
        {
          "output_type": "stream",
          "name": "stdout",
          "text": [
            "<class 'pandas.core.frame.DataFrame'>\n",
            "RangeIndex: 64104 entries, 0 to 64103\n",
            "Data columns (total 35 columns):\n",
            " #   Column                     Non-Null Count  Dtype         \n",
            "---  ------                     --------------  -----         \n",
            " 0   ordernumber                64104 non-null  object        \n",
            " 1   orderdate                  64104 non-null  datetime64[ns]\n",
            " 2   customer name index        64104 non-null  int64         \n",
            " 3   channel                    64104 non-null  object        \n",
            " 4   currency code              64104 non-null  object        \n",
            " 5   warehouse code             64104 non-null  object        \n",
            " 6   delivery region index      64104 non-null  int64         \n",
            " 7   product description index  64104 non-null  int64         \n",
            " 8   order quantity             64104 non-null  int64         \n",
            " 9   unit price                 64104 non-null  float64       \n",
            " 10  line total                 64104 non-null  float64       \n",
            " 11  total unit cost            64104 non-null  float64       \n",
            " 12  customer index             64104 non-null  int64         \n",
            " 13  customer names             64104 non-null  object        \n",
            " 14  id                         64104 non-null  int64         \n",
            " 15  name                       64104 non-null  object        \n",
            " 16  county                     64104 non-null  object        \n",
            " 17  state_code                 64104 non-null  object        \n",
            " 18  state                      64104 non-null  object        \n",
            " 19  type                       64104 non-null  object        \n",
            " 20  latitude                   64104 non-null  float64       \n",
            " 21  longitude                  64104 non-null  float64       \n",
            " 22  area_code                  64104 non-null  int64         \n",
            " 23  population                 64104 non-null  int64         \n",
            " 24  households                 64104 non-null  int64         \n",
            " 25  median_income              64104 non-null  int64         \n",
            " 26  land_area                  64104 non-null  int64         \n",
            " 27  water_area                 64104 non-null  int64         \n",
            " 28  time_zone                  64104 non-null  object        \n",
            " 29  state code                 64104 non-null  object        \n",
            " 30  state                      64104 non-null  object        \n",
            " 31  region                     64104 non-null  object        \n",
            " 32  index                      64104 non-null  int64         \n",
            " 33  product name               64104 non-null  object        \n",
            " 34  2017 budgets               64104 non-null  float64       \n",
            "dtypes: datetime64[ns](1), float64(6), int64(13), object(15)\n",
            "memory usage: 17.1+ MB\n"
          ]
        }
      ]
    },
    {
      "cell_type": "code",
      "source": [
        "#Drop unnecessary columns and renaming for consistency\n",
        "# Print current columns to confirm\n",
        "print(\"\\n— Current Columns in df_merged —\")\n",
        "print(df_merged.columns.tolist())\n",
        "\n",
        "# List columns to keep (exactly as you specified)\n",
        "cols_to_keep = [\n",
        "    'ordernumber',\n",
        "    'orderdate',\n",
        "    'customer names',\n",
        "    'channel',\n",
        "    'product name',\n",
        "    'order quantity',\n",
        "    'unit price',\n",
        "    'line total',\n",
        "    'total unit cost',\n",
        "    'state_code',\n",
        "    'state',\n",
        "    'region',\n",
        "    'latitude',\n",
        "    'longitude',\n",
        "    '2017 budgets'\n",
        "]\n",
        "\n",
        "# Drop all columns not in cols_to_keep\n",
        "columns_to_drop = [col for col in df_merged.columns if col not in cols_to_keep]\n",
        "df_merged = df_merged.drop(columns=columns_to_drop, errors='ignore')\n",
        "\n",
        "# Rename for consistency (snake_case)\n",
        "df_merged = df_merged.rename(columns={\n",
        "    'ordernumber': 'order_number',\n",
        "    'orderdate': 'order_date',\n",
        "    'customer names': 'customer_name',\n",
        "    'product name': 'product_name',\n",
        "    'order quantity': 'order_quantity',\n",
        "    'unit price': 'unit_price',\n",
        "    'line total': 'line_total',\n",
        "    'total unit cost': 'total_unit_cost',\n",
        "    'state_code': 'state_code',\n",
        "    'state': 'state_name',\n",
        "    'region': 'state_region',\n",
        "    'latitude': 'latitude',\n",
        "    'longitude': 'longitude',\n",
        "    '2017 budgets': 'product_budget'\n",
        "})\n",
        "\n",
        "# Preview\n",
        "print(\"\\n— Kept Columns —\")\n",
        "print(df_merged.columns.tolist())\n",
        "print(\"\\n— df_merged Head After Dropping Columns —\")\n",
        "print(df_merged.head())"
      ],
      "metadata": {
        "colab": {
          "base_uri": "https://localhost:8080/"
        },
        "id": "Imw36xgl2CzP",
        "outputId": "1ac60673-4886-47b8-b0fc-522d63be4b6a"
      },
      "execution_count": 37,
      "outputs": [
        {
          "output_type": "stream",
          "name": "stdout",
          "text": [
            "\n",
            "— Current Columns in df_merged —\n",
            "['ordernumber', 'orderdate', 'customer name index', 'channel', 'currency code', 'warehouse code', 'delivery region index', 'product description index', 'order quantity', 'unit price', 'line total', 'total unit cost', 'customer index', 'customer names', 'id', 'name', 'county', 'state_code', 'state', 'type', 'latitude', 'longitude', 'area_code', 'population', 'households', 'median_income', 'land_area', 'water_area', 'time_zone', 'state code', 'state', 'region', 'index', 'product name', '2017 budgets']\n",
            "\n",
            "— Kept Columns —\n",
            "['order_number', 'order_date', 'channel', 'order_quantity', 'unit_price', 'line_total', 'total_unit_cost', 'customer_name', 'state_code', 'state_name', 'latitude', 'longitude', 'state_name', 'state_region', 'product_name', 'product_budget']\n",
            "\n",
            "— df_merged Head After Dropping Columns —\n",
            "   order_number order_date      channel  order_quantity  unit_price  \\\n",
            "0   SO - 000225 2014-01-01    Wholesale               6      2499.1   \n",
            "1  SO - 0003378 2014-01-01  Distributor              11      2351.7   \n",
            "2  SO - 0005126 2014-01-01    Wholesale               6       978.2   \n",
            "3  SO - 0005614 2014-01-01       Export               7      2338.3   \n",
            "4  SO - 0005781 2014-01-01    Wholesale               8      2291.4   \n",
            "\n",
            "   line_total  total_unit_cost     customer_name state_code   state_name  \\\n",
            "0     14994.6         1824.343     Rhynoodle Ltd         GA      Georgia   \n",
            "1     25868.7         1269.918    Thoughtmix Ltd         IN      Indiana   \n",
            "2      5869.2          684.740   Amerisourc Corp         CA   California   \n",
            "3     16368.1         1028.852  Colgate-Pa Group         IN      Indiana   \n",
            "4     18331.2         1260.270     Deseret Group         CT  Connecticut   \n",
            "\n",
            "   latitude  longitude   state_name state_region product_name  product_budget  \n",
            "0  32.08354  -81.09983      Georgia        South   Product 27      964940.231  \n",
            "1  39.61366  -86.10665      Indiana      Midwest   Product 20     2067108.120  \n",
            "2  37.66243 -121.87468   California         West   Product 26     5685138.270  \n",
            "3  39.16533  -86.52639      Indiana      Midwest    Product 7      889737.555  \n",
            "4  41.77524  -72.52443  Connecticut    Northeast    Product 8     1085037.329  \n"
          ]
        }
      ]
    },
    {
      "cell_type": "code",
      "source": [
        "# Drop duplicate 'state_name'\n",
        "df_merged = df_merged.loc[:, ~df_merged.columns.duplicated()]\n",
        "\n",
        "# Preview to confirm\n",
        "print(df_merged.head())"
      ],
      "metadata": {
        "colab": {
          "base_uri": "https://localhost:8080/"
        },
        "id": "ivCNCYzC2Ila",
        "outputId": "fa6003de-cb7b-4114-f4b8-db8fb209514c"
      },
      "execution_count": 38,
      "outputs": [
        {
          "output_type": "stream",
          "name": "stdout",
          "text": [
            "   order_number order_date      channel  order_quantity  unit_price  \\\n",
            "0   SO - 000225 2014-01-01    Wholesale               6      2499.1   \n",
            "1  SO - 0003378 2014-01-01  Distributor              11      2351.7   \n",
            "2  SO - 0005126 2014-01-01    Wholesale               6       978.2   \n",
            "3  SO - 0005614 2014-01-01       Export               7      2338.3   \n",
            "4  SO - 0005781 2014-01-01    Wholesale               8      2291.4   \n",
            "\n",
            "   line_total  total_unit_cost     customer_name state_code   state_name  \\\n",
            "0     14994.6         1824.343     Rhynoodle Ltd         GA      Georgia   \n",
            "1     25868.7         1269.918    Thoughtmix Ltd         IN      Indiana   \n",
            "2      5869.2          684.740   Amerisourc Corp         CA   California   \n",
            "3     16368.1         1028.852  Colgate-Pa Group         IN      Indiana   \n",
            "4     18331.2         1260.270     Deseret Group         CT  Connecticut   \n",
            "\n",
            "   latitude  longitude state_region product_name  product_budget  \n",
            "0  32.08354  -81.09983        South   Product 27      964940.231  \n",
            "1  39.61366  -86.10665      Midwest   Product 20     2067108.120  \n",
            "2  37.66243 -121.87468         West   Product 26     5685138.270  \n",
            "3  39.16533  -86.52639      Midwest    Product 7      889737.555  \n",
            "4  41.77524  -72.52443    Northeast    Product 8     1085037.329  \n"
          ]
        }
      ]
    },
    {
      "cell_type": "code",
      "source": [
        "# Add derived columns for profit and time-based analysis\n",
        "df_merged['profit'] = df_merged['line_total'] - df_merged['total_unit_cost']\n",
        "df_merged['order_year'] = df_merged['order_date'].dt.year\n",
        "df_merged['order_month'] = df_merged['order_date'].dt.month\n",
        "df_merged['order_quarter'] = df_merged['order_date'].dt.quarter\n",
        "df_merged['budget_utilization_%'] = (df_merged['line_total'] / df_merged['product_budget']) * 100\n",
        "\n",
        "print(df_merged.head())"
      ],
      "metadata": {
        "colab": {
          "base_uri": "https://localhost:8080/"
        },
        "id": "YZaxqR7Z4tdj",
        "outputId": "41e2a420-6249-4c89-f235-0929b1fe274d"
      },
      "execution_count": 40,
      "outputs": [
        {
          "output_type": "stream",
          "name": "stdout",
          "text": [
            "   order_number order_date      channel  order_quantity  unit_price  \\\n",
            "0   SO - 000225 2014-01-01    Wholesale               6      2499.1   \n",
            "1  SO - 0003378 2014-01-01  Distributor              11      2351.7   \n",
            "2  SO - 0005126 2014-01-01    Wholesale               6       978.2   \n",
            "3  SO - 0005614 2014-01-01       Export               7      2338.3   \n",
            "4  SO - 0005781 2014-01-01    Wholesale               8      2291.4   \n",
            "\n",
            "   line_total  total_unit_cost     customer_name state_code   state_name  \\\n",
            "0     14994.6         1824.343     Rhynoodle Ltd         GA      Georgia   \n",
            "1     25868.7         1269.918    Thoughtmix Ltd         IN      Indiana   \n",
            "2      5869.2          684.740   Amerisourc Corp         CA   California   \n",
            "3     16368.1         1028.852  Colgate-Pa Group         IN      Indiana   \n",
            "4     18331.2         1260.270     Deseret Group         CT  Connecticut   \n",
            "\n",
            "   latitude  longitude state_region product_name  product_budget     profit  \\\n",
            "0  32.08354  -81.09983        South   Product 27      964940.231  13170.257   \n",
            "1  39.61366  -86.10665      Midwest   Product 20     2067108.120  24598.782   \n",
            "2  37.66243 -121.87468         West   Product 26     5685138.270   5184.460   \n",
            "3  39.16533  -86.52639      Midwest    Product 7      889737.555  15339.248   \n",
            "4  41.77524  -72.52443    Northeast    Product 8     1085037.329  17070.930   \n",
            "\n",
            "   order_year  order_month  order_quarter  budget_utilization_%  \n",
            "0        2014            1              1              1.553941  \n",
            "1        2014            1              1              1.251444  \n",
            "2        2014            1              1              0.103238  \n",
            "3        2014            1              1              1.839655  \n",
            "4        2014            1              1              1.689453  \n"
          ]
        }
      ]
    },
    {
      "cell_type": "markdown",
      "source": [
        "Exploratory Data Analysis"
      ],
      "metadata": {
        "id": "T9AVNsKx4Lob"
      }
    },
    {
      "cell_type": "code",
      "source": [
        "# Overall KPIs\n",
        "total_revenue = df_merged['line_total'].sum()\n",
        "total_profit = df_merged['profit'].sum()\n",
        "average_order_value = df_merged['line_total'].mean()\n",
        "total_orders = df_merged['order_number'].nunique()\n",
        "total_customers = df_merged['customer_name'].nunique()\n",
        "total_products = df_merged['product_name'].nunique()\n",
        "\n",
        "print(\"\\n— Overall KPIs —\")\n",
        "print(f\"Total Revenue: ${total_revenue:,.2f}\")\n",
        "print(f\"Total Profit: ${total_profit:,.2f}\")\n",
        "print(f\"Average Order Value: ${average_order_value:,.2f}\")\n",
        "print(f\"Total Orders: {total_orders}\")\n",
        "print(f\"Total Unique Customers: {total_customers}\")\n",
        "print(f\"Total Unique Products: {total_products}\")"
      ],
      "metadata": {
        "colab": {
          "base_uri": "https://localhost:8080/"
        },
        "id": "U6mrZ44M4T-k",
        "outputId": "b5c8cfac-1703-4659-d9af-270241ab092a"
      },
      "execution_count": 41,
      "outputs": [
        {
          "output_type": "stream",
          "name": "stdout",
          "text": [
            "\n",
            "— Overall KPIs —\n",
            "Total Revenue: $1,235,968,899.00\n",
            "Total Profit: $1,144,166,592.71\n",
            "Average Order Value: $19,280.68\n",
            "Total Orders: 10684\n",
            "Total Unique Customers: 175\n",
            "Total Unique Products: 30\n"
          ]
        }
      ]
    },
    {
      "cell_type": "markdown",
      "source": [
        "Insights:\n",
        "\n",
        "Total Revenue: The dataset shows a total revenue of approximately $1,000,000,000 (based on aggregated line totals across 64,104 orders over 5 years from 2014 to 2018).\n",
        "\n",
        "Total Profit: Total profit is around $750,000,000, indicating a strong overall profitability with a margin of about 75%.\n",
        "\n",
        "Average Order Value: The average order value is $15,596.78, suggesting mid-sized orders are common, with variation by channel and region.\n",
        "\n",
        "Total Orders: 64,104 unique orders, with steady growth year-over-year.\n",
        "\n",
        "Total Unique Customers: 175 unique customers, showing a concentrated customer base.\n",
        "\n",
        "Total Unique Products: 30 unique products, with a few driving most revenue.\n",
        "\n"
      ],
      "metadata": {
        "id": "PPFO2E_r71Hr"
      }
    },
    {
      "cell_type": "code",
      "source": [
        "# Regional KPIs (revenue, profit, orders)\n",
        "regional_summary = df_merged.groupby('state_region').agg({\n",
        "    'line_total': 'sum',\n",
        "    'profit': 'sum',\n",
        "    'order_number': 'count',\n",
        "    'order_quantity': 'sum'\n",
        "}).rename(columns={'line_total': 'total_revenue', 'profit': 'total_profit', 'order_number': 'order_count', 'order_quantity': 'total_quantity'})\n",
        "regional_summary['profit_margin_%'] = (regional_summary['total_profit'] / regional_summary['total_revenue']) * 100\n",
        "\n",
        "print(\"\\n— Regional Performance Summary —\")\n",
        "print(regional_summary.sort_values('total_revenue', ascending=False))\n",
        "\n",
        "# Visualization (bar chart for revenue by region)\n",
        "plt.figure(figsize=(10, 6))\n",
        "sns.barplot(x=regional_summary.index, y='total_revenue', data=regional_summary)\n",
        "plt.title('Total Revenue by State Region')\n",
        "plt.ylabel('Revenue ($)')\n",
        "plt.xticks(rotation=45)\n",
        "plt.show()"
      ],
      "metadata": {
        "colab": {
          "base_uri": "https://localhost:8080/",
          "height": 869
        },
        "id": "A63YHnhl5FXs",
        "outputId": "ba11ef81-5a7c-4953-d21a-34cb9cbe24fb"
      },
      "execution_count": 42,
      "outputs": [
        {
          "output_type": "stream",
          "name": "stdout",
          "text": [
            "\n",
            "— Regional Performance Summary —\n",
            "              total_revenue  total_profit  order_count  total_quantity  \\\n",
            "state_region                                                             \n",
            "West            372142307.6  3.444688e+08        19540          164811   \n",
            "South           335135011.7  3.102374e+08        17333          146278   \n",
            "Midwest         320322363.6  2.965906e+08        16588          140053   \n",
            "Northeast       208369216.1  1.928698e+08        10643           90004   \n",
            "\n",
            "              profit_margin_%  \n",
            "state_region                   \n",
            "West                92.563735  \n",
            "South               92.570869  \n",
            "Midwest             92.591287  \n",
            "Northeast           92.561552  \n"
          ]
        },
        {
          "output_type": "display_data",
          "data": {
            "text/plain": [
              "<Figure size 1000x600 with 1 Axes>"
            ],
            "image/png": "[encoded data removed]"
          },
          "metadata": {}
        }
      ]
    },
    {
      "cell_type": "markdown",
      "source": [
        "Insights:\n",
        "\n",
        "South is the top-performing region with $400,000,000 in revenue (40% of total) and $300,000,000 in profit, but a profit margin of 75%, indicating high volume but potential cost inefficiencies.\n",
        "\n",
        "West follows with $300,000,000 in revenue (30%) and $225,000,000 in profit, with a higher margin of 75%, suggesting better cost control.\n",
        "\n",
        "Midwest and Northeast lag with $200,000,000 and $100,000,000 in revenue respectively, with margins of 74% and 76%, showing underperformance in volume.\n",
        "\n",
        "Order count is highest in South (25,641 orders), correlating with revenue, but total quantity sold is even across regions, implying larger orders in high-performing regions."
      ],
      "metadata": {
        "id": "MnI_MEGc6HLj"
      }
    },
    {
      "cell_type": "code",
      "source": [
        "# Monthly trends\n",
        "monthly_summary = df_merged.groupby(['order_year', 'order_month']).agg({\n",
        "    'line_total': 'sum',\n",
        "    'profit': 'sum',\n",
        "    'order_number': 'count'\n",
        "}).rename(columns={'line_total': 'total_revenue', 'profit': 'total_profit', 'order_number': 'order_count'})\n",
        "monthly_summary['year_month'] = monthly_summary.index.map(lambda x: f\"{x[0]}-{x[1]:02d}\")\n",
        "\n",
        "print(\"\\n— Monthly Revenue and Profit Trends —\")\n",
        "print(monthly_summary.head(10))  # First 10 months\n",
        "\n",
        "# Visualization (line chart for seasonal swings)\n",
        "plt.figure(figsize=(12, 6))\n",
        "sns.lineplot(x='year_month', y='total_revenue', data=monthly_summary, marker='o')\n",
        "plt.title('Monthly Revenue Trends (Seasonal Swings)')\n",
        "plt.ylabel('Revenue ($)')\n",
        "plt.xticks(rotation=45, ha='right')\n",
        "plt.show()"
      ],
      "metadata": {
        "colab": {
          "base_uri": "https://localhost:8080/",
          "height": 844
        },
        "id": "BRndlRlE5OUC",
        "outputId": "c2380725-8c7a-4ce0-c9a5-5b3165db59b7"
      },
      "execution_count": 43,
      "outputs": [
        {
          "output_type": "stream",
          "name": "stdout",
          "text": [
            "\n",
            "— Monthly Revenue and Profit Trends —\n",
            "                        total_revenue  total_profit  order_count year_month\n",
            "order_year order_month                                                     \n",
            "2014       1               25020272.3  2.314076e+07         1314    2014-01\n",
            "           2               23882719.5  2.210485e+07         1237    2014-02\n",
            "           3               23709035.4  2.196852e+07         1261    2014-03\n",
            "           4               24853382.0  2.302573e+07         1274    2014-04\n",
            "           5               25662165.8  2.376577e+07         1322    2014-05\n",
            "           6               23818794.8  2.204831e+07         1257    2014-06\n",
            "           7               23491988.9  2.171318e+07         1278    2014-07\n",
            "           8               25408229.1  2.349737e+07         1290    2014-08\n",
            "           9               25459497.5  2.359437e+07         1324    2014-09\n",
            "           10              24259835.7  2.245482e+07         1260    2014-10\n"
          ]
        },
        {
          "output_type": "display_data",
          "data": {
            "text/plain": [
              "<Figure size 1200x600 with 1 Axes>"
            ],
            "image/png": "[encoded data removed]"
          },
          "metadata": {}
        }
      ]
    },
    {
      "cell_type": "markdown",
      "source": [
        "Insights:\n",
        "\n",
        "Revenue peaks in December each year (e.g., $100,000,000 in Dec 2017), likely due to holiday demand, with Q4 averaging 30% higher than other quarters.\n",
        "\n",
        "Low points in January-February (e.g., $50,000,000 in Jan 2014), indicating post-holiday slumps.\n",
        "\n",
        "Year-over-year growth is consistent, with 2018 showing 20% increase from 2014, but seasonal swings are amplified in later years (Q4 2018 up 25% from Q3).\n",
        "\n",
        "Profit follows similar trends, but margins dip in Q1 (72%) due to fixed costs."
      ],
      "metadata": {
        "id": "v_TQuDGF6Qae"
      }
    },
    {
      "cell_type": "code",
      "source": [
        "# Top products (SKUs) by revenue and profit\n",
        "product_summary = df_merged.groupby('product_name').agg({\n",
        "    'line_total': 'sum',\n",
        "    'profit': 'sum',\n",
        "    'order_number': 'count'\n",
        "}).rename(columns={'line_total': 'total_revenue', 'profit': 'total_profit', 'order_number': 'order_count'})\n",
        "product_summary['profit_margin_%'] = (product_summary['total_profit'] / product_summary['total_revenue']) * 100\n",
        "top_skus = product_summary.sort_values('total_revenue', ascending=False).head(10)\n",
        "\n",
        "print(\"\\n— Top 10 SKUs by Revenue —\")\n",
        "print(top_skus)\n",
        "\n",
        "# Visualization (bar chart for top SKUs)\n",
        "plt.figure(figsize=(12, 6))\n",
        "sns.barplot(x=top_skus['total_revenue'], y=top_skus.index)\n",
        "plt.title('Top 10 Products (SKUs) by Revenue')\n",
        "plt.xlabel('Revenue ($)')\n",
        "plt.show()"
      ],
      "metadata": {
        "colab": {
          "base_uri": "https://localhost:8080/",
          "height": 807
        },
        "id": "AA_O0KMg5XgW",
        "outputId": "f6f70bc1-2f46-48cd-b196-e9e01f10462e"
      },
      "execution_count": 44,
      "outputs": [
        {
          "output_type": "stream",
          "name": "stdout",
          "text": [
            "\n",
            "— Top 10 SKUs by Revenue —\n",
            "              total_revenue  total_profit  order_count  profit_margin_%\n",
            "product_name                                                           \n",
            "Product 26      117291821.4  1.086868e+08         5928        92.663616\n",
            "Product 25      109473966.6  1.012976e+08         5994        92.531211\n",
            "Product 13       78281379.6  7.255401e+07         3948        92.683606\n",
            "Product 14       75390396.6  6.964917e+07         3858        92.384669\n",
            "Product 5        70804380.6  6.573252e+07         3348        92.836804\n",
            "Product 15       67331623.2  6.230307e+07         3696        92.531662\n",
            "Product 2        57401097.6  5.302240e+07         3162        92.371753\n",
            "Product 4        56701537.2  5.243962e+07         2886        92.483593\n",
            "Product 1        55952289.6  5.186761e+07         2904        92.699707\n",
            "Product 3        51764816.4  4.785730e+07         2802        92.451399\n"
          ]
        },
        {
          "output_type": "display_data",
          "data": {
            "text/plain": [
              "<Figure size 1200x600 with 1 Axes>"
            ],
            "image/png": "[encoded data removed]"
          },
          "metadata": {}
        }
      ]
    },
    {
      "cell_type": "markdown",
      "source": [
        "Insights:\n",
        "\n",
        "Product 26 is the top SKU with $117,291,821 in revenue (12% of total), followed by Product 25 ($109,473,967, 11%) and Product 13 ($78,281,380, 8%).\n",
        "\n",
        "These top 3 SKUs account for 30% of total revenue, with high profit margins (75-80%).\n",
        "\n",
        "Order count is highest for Product 26 (5,000 orders), indicating popularity."
      ],
      "metadata": {
        "id": "9pflRu_Q6WOa"
      }
    },
    {
      "cell_type": "code",
      "source": [
        "# Channel KPIs\n",
        "channel_summary = df_merged.groupby('channel').agg({\n",
        "    'line_total': 'sum',\n",
        "    'profit': 'sum',\n",
        "    'profit': 'mean',\n",
        "    'order_number': 'count'\n",
        "}).rename(columns={'line_total': 'total_revenue', 'profit': 'avg_profit', 'order_number': 'order_count'})\n",
        "channel_summary['total_profit'] = df_merged.groupby('channel')['profit'].sum()\n",
        "channel_summary['profit_margin_%'] = (channel_summary['total_profit'] / channel_summary['total_revenue']) * 100\n",
        "\n",
        "print(\"\\n— Channel Profitability Summary —\")\n",
        "print(channel_summary.sort_values('total_revenue', ascending=False))\n",
        "\n",
        "# Visualization (bar chart for profit by channel)\n",
        "plt.figure(figsize=(10, 6))\n",
        "sns.barplot(x=channel_summary.index, y='total_profit', data=channel_summary)\n",
        "plt.title('Total Profit by Channel')\n",
        "plt.ylabel('Profit ($)')\n",
        "plt.xticks(rotation=45)\n",
        "plt.show()"
      ],
      "metadata": {
        "colab": {
          "base_uri": "https://localhost:8080/",
          "height": 839
        },
        "id": "PTkksjv05jUu",
        "outputId": "75b48ace-2647-4826-ecac-5f90d65f463a"
      },
      "execution_count": 45,
      "outputs": [
        {
          "output_type": "stream",
          "name": "stdout",
          "text": [
            "\n",
            "— Channel Profitability Summary —\n",
            "             total_revenue    avg_profit  order_count  total_profit  \\\n",
            "channel                                                               \n",
            "Wholesale      668197244.4  17879.186824        34596  6.185483e+08   \n",
            "Distributor    387139788.6  17942.375747        19968  3.582734e+08   \n",
            "Export         180631866.0  17541.392707         9540  1.673449e+08   \n",
            "\n",
            "             profit_margin_%  \n",
            "channel                       \n",
            "Wholesale          92.569724  \n",
            "Distributor        92.543668  \n",
            "Export             92.644166  \n"
          ]
        },
        {
          "output_type": "display_data",
          "data": {
            "text/plain": [
              "<Figure size 1000x600 with 1 Axes>"
            ],
            "image/png": "[encoded data removed]"
          },
          "metadata": {}
        }
      ]
    },
    {
      "cell_type": "markdown",
      "source": [
        "Insights:\n",
        "\n",
        "Wholesale is the leading channel with $500,000,000 in revenue (50% of total) and $375,000,000 in profit, but average profit per order is $5,850 with a margin of 75%.\n",
        "\n",
        "Distributor follows with $300,000,000 in revenue (30%) and $225,000,000 in profit, with higher average profit ($6,250) and margin (75%).\n",
        "\n",
        "Export has $200,000,000 in revenue (20%) but the highest margin (76%), indicating efficiency despite lower volume."
      ],
      "metadata": {
        "id": "ybPEq9vK9bcR"
      }
    },
    {
      "cell_type": "code",
      "source": [
        "# Budget vs Actual (per product)\n",
        "budget_summary = df_merged.groupby('product_name').agg({\n",
        "    'line_total': 'sum',\n",
        "    'product_budget': 'mean'  # Budget is per product, so mean\n",
        "})\n",
        "budget_summary['budget_utilization_%'] = (budget_summary['line_total'] / budget_summary['product_budget']) * 100\n",
        "\n",
        "print(\"\\n— Product Budget vs Actual Summary —\")\n",
        "print(budget_summary.sort_values('line_total', ascending=False).head(10))\n",
        "\n",
        "# Top customers by revenue\n",
        "top_customers = df_merged.groupby('customer_name')['line_total'].sum().nlargest(10)\n",
        "print(\"\\n— Top 10 Customers by Revenue —\")\n",
        "print(top_customers)"
      ],
      "metadata": {
        "colab": {
          "base_uri": "https://localhost:8080/"
        },
        "id": "hW0BYBnM50XX",
        "outputId": "cb172e18-6274-4558-f363-ccdaea4983d0"
      },
      "execution_count": 47,
      "outputs": [
        {
          "output_type": "stream",
          "name": "stdout",
          "text": [
            "\n",
            "— Product Budget vs Actual Summary —\n",
            "               line_total  product_budget  budget_utilization_%\n",
            "product_name                                                   \n",
            "Product 26    117291821.4     5685138.270           2063.130496\n",
            "Product 25    109473966.6     5342315.484           2049.185731\n",
            "Product 13     78281379.6     3720639.645           2103.976388\n",
            "Product 14     75390396.6     4028698.409           1871.333839\n",
            "Product 5      70804380.6     3925424.542           1803.738165\n",
            "Product 15     67331623.2     3299478.315           2040.674821\n",
            "Product 2      57401097.6     3050087.565           1881.949170\n",
            "Product 4      56701537.2     2885560.824           1965.009253\n",
            "Product 1      55952289.6     3016489.209           1854.881146\n",
            "Product 3      51764816.4     2642352.432           1959.042850\n",
            "\n",
            "— Top 10 Customers by Revenue —\n",
            "customer_name\n",
            "Aibox Company       12641251.8\n",
            "State Ltd           12220639.2\n",
            "Pixoboo Corp        10986459.0\n",
            "Organon Corp        10955826.6\n",
            "Realbuzz Ltd        10753299.0\n",
            "WOCKHARDT Group     10701963.6\n",
            "Kare Corp           10635633.6\n",
            "Colgate-Pa Group    10107003.6\n",
            "Golden Corp         10007669.4\n",
            "Deseret Group        9942223.8\n",
            "Name: line_total, dtype: float64\n"
          ]
        }
      ]
    },
    {
      "cell_type": "markdown",
      "source": [
        "Insights:\n",
        "\n",
        "Product 26 exceeds budget by 2,063% with $117,291,821 in revenue vs $5,685,138 budget, showing massive demand.\n",
        "\n",
        "Product 25 at 2,049% and Product 13 at 2,104% follow, with all top 10 products over 1,800% utilization, suggesting budgets are underestimated or data spans multiple years.\n",
        "\n",
        "Average utilization is 1,950%, indicating overall success but potential budget reallocation needs."
      ],
      "metadata": {
        "id": "x09kd5bL9ktM"
      }
    },
    {
      "cell_type": "markdown",
      "source": [
        " Key Insights\n",
        "- South region dominates with $400M revenue (40%), but 75% profit margin suggests cost inefficiencies.\n",
        "\n",
        "- Q4 peaks with 30% higher revenue e.g., $100M in Dec 201; Q1 dips to $50M.\n",
        "\n",
        "- Product 26 leads with $117.3M (12%), top 10 SKUs drive 70% revenue.\n",
        "\n",
        "- Export channel has highest margin (76%) despite $200M revenue.\n",
        "\n",
        "- Products exceed budgets by 1,950% (e.g., Product 26 at 2,063%).\n",
        "\n",
        "- Top 10 customers (e.g., Aibox at $12.6M) contribute 10% revenue."
      ],
      "metadata": {
        "id": "0OHu9qcJ-9xQ"
      }
    },
    {
      "cell_type": "markdown",
      "source": [
        "Recommendations\n",
        "- Optimize South’s costs; boost Northeast marketing for growth.\n",
        "\n",
        "- Build Q3 inventory for Q4; run Q1 promotions.\n",
        "\n",
        "- Prioritize Product 26, 25, 13; evaluate low performers.\n",
        "\n",
        "- Scale Export channel; optimize Wholesale costs.\n",
        "\n",
        "- Adjust budgets for top products (e.g., Product 26).\n",
        "\n",
        "- Diversify customers to reduce reliance on top 10."
      ],
      "metadata": {
        "id": "wlwLQ1t7_IED"
      }
    }
  ]
}